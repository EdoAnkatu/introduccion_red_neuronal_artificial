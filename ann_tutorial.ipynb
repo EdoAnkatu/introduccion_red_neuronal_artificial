{
 "cells": [
  {
   "cell_type": "markdown",
   "id": "309123ad",
   "metadata": {},
   "source": [
    "# Artificial Neural Network\n",
    "\n",
    "## 1. Modelo\n",
    "\n",
    "### 1.1. Funciones\n",
    "\n",
    "Una red neuronal artificial está basada en combinaciones lineales de la forma\n",
    "\n",
    "$$ y(\\boldsymbol{x}, \\boldsymbol{w}) = f\\left(\\sum_{j=1}^{M} w_{j}\\phi_{j}\\left(\\boldsymbol{x}\\right)\\right) $$\n",
    "\n",
    "Donde $f(\\cdot)$ es una función no lineal. En la primera capa se realizan las combinaciones lineales.\n",
    "\n",
    "$$ a_{j} = \\sum_{i=1}^{D} w_{ji}^{(1)}x_{i} + w_{j0}^{(1)} $$\n",
    "\n",
    "Donde después se activan mediante una función no lineal.\n",
    "\n",
    "$$ z_{j} = h(a_{j}) $$\n",
    "\n",
    "Dicha función de activación puede ser alguna función sigmoide. Luego, para la segunda capa para el nodo k-ésimo tenemos:\n",
    "\n",
    "$$ a_{k} = \\sum_{j=1}^{M} w_{kj}^{(2)} +w_{k0}^{(2)} $$\n"
   ]
  }
 ],
 "metadata": {
  "kernelspec": {
   "display_name": "Python 3 (ipykernel)",
   "language": "python",
   "name": "python3"
  },
  "language_info": {
   "codemirror_mode": {
    "name": "ipython",
    "version": 3
   },
   "file_extension": ".py",
   "mimetype": "text/x-python",
   "name": "python",
   "nbconvert_exporter": "python",
   "pygments_lexer": "ipython3",
   "version": "3.8.8"
  }
 },
 "nbformat": 4,
 "nbformat_minor": 5
}
